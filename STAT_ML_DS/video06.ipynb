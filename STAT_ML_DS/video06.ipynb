{
 "cells": [
  {
   "cell_type": "code",
   "execution_count": 1,
   "metadata": {},
   "outputs": [],
   "source": [
    "import pandas as pd\n",
    "import seaborn as sns"
   ]
  },
  {
   "cell_type": "markdown",
   "metadata": {},
   "source": [
    "## Loading Study Performance CSV\n"
   ]
  },
  {
   "cell_type": "code",
   "execution_count": 3,
   "metadata": {},
   "outputs": [
    {
     "data": {
      "text/html": [
       "<div>\n",
       "<style scoped>\n",
       "    .dataframe tbody tr th:only-of-type {\n",
       "        vertical-align: middle;\n",
       "    }\n",
       "\n",
       "    .dataframe tbody tr th {\n",
       "        vertical-align: top;\n",
       "    }\n",
       "\n",
       "    .dataframe thead th {\n",
       "        text-align: right;\n",
       "    }\n",
       "</style>\n",
       "<table border=\"1\" class=\"dataframe\">\n",
       "  <thead>\n",
       "    <tr style=\"text-align: right;\">\n",
       "      <th></th>\n",
       "      <th>gender</th>\n",
       "      <th>race_ethnicity</th>\n",
       "      <th>parental_level_of_education</th>\n",
       "      <th>lunch</th>\n",
       "      <th>test_preparation_course</th>\n",
       "      <th>math_score</th>\n",
       "      <th>reading_score</th>\n",
       "      <th>writing_score</th>\n",
       "    </tr>\n",
       "  </thead>\n",
       "  <tbody>\n",
       "    <tr>\n",
       "      <th>0</th>\n",
       "      <td>female</td>\n",
       "      <td>group B</td>\n",
       "      <td>bachelor's degree</td>\n",
       "      <td>standard</td>\n",
       "      <td>none</td>\n",
       "      <td>72</td>\n",
       "      <td>72</td>\n",
       "      <td>74</td>\n",
       "    </tr>\n",
       "    <tr>\n",
       "      <th>1</th>\n",
       "      <td>female</td>\n",
       "      <td>group C</td>\n",
       "      <td>some college</td>\n",
       "      <td>standard</td>\n",
       "      <td>completed</td>\n",
       "      <td>69</td>\n",
       "      <td>90</td>\n",
       "      <td>88</td>\n",
       "    </tr>\n",
       "    <tr>\n",
       "      <th>2</th>\n",
       "      <td>female</td>\n",
       "      <td>group B</td>\n",
       "      <td>master's degree</td>\n",
       "      <td>standard</td>\n",
       "      <td>none</td>\n",
       "      <td>90</td>\n",
       "      <td>95</td>\n",
       "      <td>93</td>\n",
       "    </tr>\n",
       "    <tr>\n",
       "      <th>3</th>\n",
       "      <td>male</td>\n",
       "      <td>group A</td>\n",
       "      <td>associate's degree</td>\n",
       "      <td>free/reduced</td>\n",
       "      <td>none</td>\n",
       "      <td>47</td>\n",
       "      <td>57</td>\n",
       "      <td>44</td>\n",
       "    </tr>\n",
       "    <tr>\n",
       "      <th>4</th>\n",
       "      <td>male</td>\n",
       "      <td>group C</td>\n",
       "      <td>some college</td>\n",
       "      <td>standard</td>\n",
       "      <td>none</td>\n",
       "      <td>76</td>\n",
       "      <td>78</td>\n",
       "      <td>75</td>\n",
       "    </tr>\n",
       "  </tbody>\n",
       "</table>\n",
       "</div>"
      ],
      "text/plain": [
       "   gender race_ethnicity parental_level_of_education         lunch  \\\n",
       "0  female        group B           bachelor's degree      standard   \n",
       "1  female        group C                some college      standard   \n",
       "2  female        group B             master's degree      standard   \n",
       "3    male        group A          associate's degree  free/reduced   \n",
       "4    male        group C                some college      standard   \n",
       "\n",
       "  test_preparation_course  math_score  reading_score  writing_score  \n",
       "0                    none          72             72             74  \n",
       "1               completed          69             90             88  \n",
       "2                    none          90             95             93  \n",
       "3                    none          47             57             44  \n",
       "4                    none          76             78             75  "
      ]
     },
     "execution_count": 3,
     "metadata": {},
     "output_type": "execute_result"
    }
   ],
   "source": [
    "df_sp = pd.read_csv('./data/study_performance.csv')\n",
    "df_ss = pd.read_csv('./data/student_spending.csv')\n",
    "\n",
    "df_sp.head()"
   ]
  },
  {
   "cell_type": "code",
   "execution_count": 4,
   "metadata": {},
   "outputs": [
    {
     "data": {
      "text/html": [
       "<div>\n",
       "<style scoped>\n",
       "    .dataframe tbody tr th:only-of-type {\n",
       "        vertical-align: middle;\n",
       "    }\n",
       "\n",
       "    .dataframe tbody tr th {\n",
       "        vertical-align: top;\n",
       "    }\n",
       "\n",
       "    .dataframe thead th {\n",
       "        text-align: right;\n",
       "    }\n",
       "</style>\n",
       "<table border=\"1\" class=\"dataframe\">\n",
       "  <thead>\n",
       "    <tr style=\"text-align: right;\">\n",
       "      <th></th>\n",
       "      <th>age</th>\n",
       "      <th>gender</th>\n",
       "      <th>year_in_school</th>\n",
       "      <th>major</th>\n",
       "      <th>monthly_income</th>\n",
       "      <th>financial_aid</th>\n",
       "      <th>tuition</th>\n",
       "      <th>housing</th>\n",
       "      <th>food</th>\n",
       "      <th>transportation</th>\n",
       "      <th>books_supplies</th>\n",
       "      <th>entertainment</th>\n",
       "      <th>personal_care</th>\n",
       "      <th>technology</th>\n",
       "      <th>health_wellness</th>\n",
       "      <th>miscellaneous</th>\n",
       "      <th>preferred_payment_method</th>\n",
       "    </tr>\n",
       "  </thead>\n",
       "  <tbody>\n",
       "    <tr>\n",
       "      <th>0</th>\n",
       "      <td>19</td>\n",
       "      <td>Non-binary</td>\n",
       "      <td>Freshman</td>\n",
       "      <td>Psychology</td>\n",
       "      <td>958</td>\n",
       "      <td>270</td>\n",
       "      <td>5939</td>\n",
       "      <td>709</td>\n",
       "      <td>296</td>\n",
       "      <td>123</td>\n",
       "      <td>188</td>\n",
       "      <td>41</td>\n",
       "      <td>78</td>\n",
       "      <td>134</td>\n",
       "      <td>127</td>\n",
       "      <td>72</td>\n",
       "      <td>Credit/Debit Card</td>\n",
       "    </tr>\n",
       "    <tr>\n",
       "      <th>1</th>\n",
       "      <td>24</td>\n",
       "      <td>Female</td>\n",
       "      <td>Junior</td>\n",
       "      <td>Economics</td>\n",
       "      <td>1006</td>\n",
       "      <td>875</td>\n",
       "      <td>4908</td>\n",
       "      <td>557</td>\n",
       "      <td>365</td>\n",
       "      <td>85</td>\n",
       "      <td>252</td>\n",
       "      <td>74</td>\n",
       "      <td>92</td>\n",
       "      <td>226</td>\n",
       "      <td>129</td>\n",
       "      <td>68</td>\n",
       "      <td>Credit/Debit Card</td>\n",
       "    </tr>\n",
       "    <tr>\n",
       "      <th>2</th>\n",
       "      <td>24</td>\n",
       "      <td>Non-binary</td>\n",
       "      <td>Junior</td>\n",
       "      <td>Economics</td>\n",
       "      <td>734</td>\n",
       "      <td>928</td>\n",
       "      <td>3051</td>\n",
       "      <td>666</td>\n",
       "      <td>220</td>\n",
       "      <td>137</td>\n",
       "      <td>99</td>\n",
       "      <td>130</td>\n",
       "      <td>23</td>\n",
       "      <td>239</td>\n",
       "      <td>112</td>\n",
       "      <td>133</td>\n",
       "      <td>Cash</td>\n",
       "    </tr>\n",
       "    <tr>\n",
       "      <th>3</th>\n",
       "      <td>23</td>\n",
       "      <td>Female</td>\n",
       "      <td>Senior</td>\n",
       "      <td>Computer Science</td>\n",
       "      <td>617</td>\n",
       "      <td>265</td>\n",
       "      <td>4935</td>\n",
       "      <td>652</td>\n",
       "      <td>289</td>\n",
       "      <td>114</td>\n",
       "      <td>223</td>\n",
       "      <td>99</td>\n",
       "      <td>30</td>\n",
       "      <td>163</td>\n",
       "      <td>105</td>\n",
       "      <td>55</td>\n",
       "      <td>Mobile Payment App</td>\n",
       "    </tr>\n",
       "    <tr>\n",
       "      <th>4</th>\n",
       "      <td>20</td>\n",
       "      <td>Female</td>\n",
       "      <td>Senior</td>\n",
       "      <td>Computer Science</td>\n",
       "      <td>810</td>\n",
       "      <td>522</td>\n",
       "      <td>3887</td>\n",
       "      <td>825</td>\n",
       "      <td>372</td>\n",
       "      <td>168</td>\n",
       "      <td>194</td>\n",
       "      <td>48</td>\n",
       "      <td>71</td>\n",
       "      <td>88</td>\n",
       "      <td>71</td>\n",
       "      <td>104</td>\n",
       "      <td>Credit/Debit Card</td>\n",
       "    </tr>\n",
       "  </tbody>\n",
       "</table>\n",
       "</div>"
      ],
      "text/plain": [
       "   age      gender year_in_school             major  monthly_income  \\\n",
       "0   19  Non-binary       Freshman        Psychology             958   \n",
       "1   24      Female         Junior         Economics            1006   \n",
       "2   24  Non-binary         Junior         Economics             734   \n",
       "3   23      Female         Senior  Computer Science             617   \n",
       "4   20      Female         Senior  Computer Science             810   \n",
       "\n",
       "   financial_aid  tuition  housing  food  transportation  books_supplies  \\\n",
       "0            270     5939      709   296             123             188   \n",
       "1            875     4908      557   365              85             252   \n",
       "2            928     3051      666   220             137              99   \n",
       "3            265     4935      652   289             114             223   \n",
       "4            522     3887      825   372             168             194   \n",
       "\n",
       "   entertainment  personal_care  technology  health_wellness  miscellaneous  \\\n",
       "0             41             78         134              127             72   \n",
       "1             74             92         226              129             68   \n",
       "2            130             23         239              112            133   \n",
       "3             99             30         163              105             55   \n",
       "4             48             71          88               71            104   \n",
       "\n",
       "  preferred_payment_method  \n",
       "0        Credit/Debit Card  \n",
       "1        Credit/Debit Card  \n",
       "2                     Cash  \n",
       "3       Mobile Payment App  \n",
       "4        Credit/Debit Card  "
      ]
     },
     "execution_count": 4,
     "metadata": {},
     "output_type": "execute_result"
    }
   ],
   "source": [
    "df_ss.head()"
   ]
  },
  {
   "cell_type": "code",
   "execution_count": 11,
   "metadata": {},
   "outputs": [
    {
     "data": {
      "text/plain": [
       "<Axes: xlabel='writing_score', ylabel='Count'>"
      ]
     },
     "execution_count": 11,
     "metadata": {},
     "output_type": "execute_result"
    },
    {
     "data": {
      "image/png": "[encoded data removed]",
      "text/plain": [
       "<Figure size 640x480 with 1 Axes>"
      ]
     },
     "metadata": {},
     "output_type": "display_data"
    }
   ],
   "source": [
    "sns.histplot(data=df_sp, x='writing_score', kde=True)"
   ]
  },
  {
   "cell_type": "code",
   "execution_count": 13,
   "metadata": {},
   "outputs": [
    {
     "data": {
      "text/plain": [
       "<Axes: xlabel='housing', ylabel='Count'>"
      ]
     },
     "execution_count": 13,
     "metadata": {},
     "output_type": "execute_result"
    },
    {
     "data": {
      "image/png": "[encoded data removed]",
      "text/plain": [
       "<Figure size 640x480 with 1 Axes>"
      ]
     },
     "metadata": {},
     "output_type": "display_data"
    }
   ],
   "source": [
    "sns.histplot(data=df_ss, x='housing', kde=True)"
   ]
  }
 ],
 "metadata": {
  "kernelspec": {
   "display_name": "abvenv",
   "language": "python",
   "name": "python3"
  },
  "language_info": {
   "codemirror_mode": {
    "name": "ipython",
    "version": 3
   },
   "file_extension": ".py",
   "mimetype": "text/x-python",
   "name": "python",
   "nbconvert_exporter": "python",
   "pygments_lexer": "ipython3",
   "version": "3.11.2"
  }
 },
 "nbformat": 4,
 "nbformat_minor": 2
}
